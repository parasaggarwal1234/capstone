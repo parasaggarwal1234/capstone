{
 "cells": [
  {
   "cell_type": "code",
   "execution_count": 1,
   "id": "c6a73cc2",
   "metadata": {},
   "outputs": [],
   "source": [
    "#Importing OpenCV Library for basic image processing functions\n",
    "import cv2\n",
    "# Numpy for array related functions\n",
    "import numpy as np\n",
    "# Dlib for deep learning based Modules and face landmark detection\n",
    "import dlib\n",
    "#face_utils for basic operations of conversion\n",
    "from imutils import face_utils"
   ]
  },
  {
   "cell_type": "code",
   "execution_count": 2,
   "id": "335c1972",
   "metadata": {
    "scrolled": true
   },
   "outputs": [],
   "source": [
    "# !pip install \"D:\\\\download and documents\\\\Install-dlib-main\\\\Install-dlib-main\\\\dlib-19.22.99-cp39-cp39-win_amd64.whl\""
   ]
  },
  {
   "cell_type": "code",
   "execution_count": 3,
   "id": "30a1d633",
   "metadata": {},
   "outputs": [],
   "source": [
    "# !pip install imutils"
   ]
  },
  {
   "cell_type": "code",
   "execution_count": 4,
   "id": "407f3e2c",
   "metadata": {},
   "outputs": [],
   "source": [
    "import sys"
   ]
  },
  {
   "cell_type": "code",
   "execution_count": 5,
   "id": "f45a5599",
   "metadata": {},
   "outputs": [
    {
     "name": "stdout",
     "output_type": "stream",
     "text": [
      "3.9.7 (default, Sep 16 2021, 16:59:28) [MSC v.1916 64 bit (AMD64)]\n"
     ]
    }
   ],
   "source": [
    "print(sys.version)"
   ]
  },
  {
   "cell_type": "code",
   "execution_count": 6,
   "id": "91c70473",
   "metadata": {},
   "outputs": [
    {
     "name": "stdout",
     "output_type": "stream",
     "text": [
      "4.6.0\n",
      "19.24.0\n"
     ]
    }
   ],
   "source": [
    "\n",
    "print(cv2.__version__)\n",
    "\n",
    "\n",
    "\n",
    "print(dlib.__version__)\n"
   ]
  },
  {
   "cell_type": "code",
   "execution_count": 7,
   "id": "dbc93e52",
   "metadata": {},
   "outputs": [],
   "source": [
    "#Initializing the camera and taking the instance\n",
    "cap = cv2.VideoCapture(0)\n",
    "\n",
    "#Initializing the face detector and landmark detector\n",
    "detector = dlib.get_frontal_face_detector()\n",
    "predictor = dlib.shape_predictor(\"shape_predictor_68_face_landmarks_GTX.dat\")"
   ]
  },
  {
   "cell_type": "code",
   "execution_count": 8,
   "id": "1936b7ae",
   "metadata": {},
   "outputs": [],
   "source": [
    "#status marking for current state\n",
    "sleep = 0\n",
    "drowsy = 0\n",
    "active = 0\n",
    "status=\"\"\n",
    "color=(0,0,0)"
   ]
  },
  {
   "cell_type": "code",
   "execution_count": 9,
   "id": "638b9ca1",
   "metadata": {},
   "outputs": [],
   "source": [
    "def compute(ptA,ptB):\n",
    "    dist = np.linalg.norm(ptA - ptB)\n",
    "    return dist\n",
    "\n",
    "def blinked(a,b,c,d,e,f):\n",
    "    up = compute(b,d) + compute(c,e)\n",
    "    down = compute(a,f)\n",
    "    ratio = up/(2.0*down)\n",
    "\n",
    "    #Checking if it is blinked\n",
    "    if(ratio>0.25):\n",
    "        return 2\n",
    "    elif(ratio>0.21 and ratio<=0.25):\n",
    "        return 1\n",
    "    else:\n",
    "        return 0"
   ]
  },
  {
   "cell_type": "code",
   "execution_count": 10,
   "id": "997615b2",
   "metadata": {
    "scrolled": true
   },
   "outputs": [],
   "source": [
    "while True:\n",
    "    # Capture frame-by-frame\n",
    "    ret, frame = cap.read()\n",
    "    # if frame is read correctly ret is True\n",
    "    if not ret:\n",
    "        print(\"Can't receive frame (stream end?). Exiting ...\")\n",
    "        break\n",
    "    # Our operations on the frame come here\n",
    "    gray = cv2.cvtColor(frame, cv2.COLOR_BGR2GRAY)\n",
    "\n",
    "    faces = detector(gray)\n",
    "    #detected face in faces array\n",
    "    for face in faces:\n",
    "        x1 = face.left()\n",
    "        y1 = face.top()\n",
    "        x2 = face.right()\n",
    "        y2 = face.bottom()\n",
    "\n",
    "        face_frame = frame.copy()\n",
    "        cv2.rectangle(frame, (x1, y1), (x2, y2), (1, 1, 1), 2)\n",
    "\n",
    "        landmarks = predictor(gray, face)\n",
    "        landmarks = face_utils.shape_to_np(landmarks)\n",
    "\n",
    "        #The numbers are actually the landmarks which will show eye\n",
    "        left_blink = blinked(landmarks[36],landmarks[37], \n",
    "            landmarks[38], landmarks[41], landmarks[40], landmarks[39])\n",
    "        right_blink = blinked(landmarks[42],landmarks[43], \n",
    "            landmarks[44], landmarks[47], landmarks[46], landmarks[45])\n",
    "        \n",
    "        #Now judge what to do for the eye blinks\n",
    "        if(left_blink==0 or right_blink==0):\n",
    "            sleep+=1\n",
    "            drowsy=0\n",
    "            active=0\n",
    "            if(sleep>6):\n",
    "                status=\"SLEEPING !!!\"\n",
    "                color = (255,0,0)\n",
    "\n",
    "        elif(left_blink==1 or right_blink==1):\n",
    "            sleep=0\n",
    "            active=0\n",
    "            drowsy+=1\n",
    "            if(drowsy>6):\n",
    "                status=\"Drowsy !\"\n",
    "                color = (0,0,255)\n",
    "\n",
    "        else:\n",
    "            drowsy=0\n",
    "            sleep=0\n",
    "            active+=1\n",
    "            if(active>6):\n",
    "                status=\"Active :)\"\n",
    "                color = (0,255,0)\n",
    "        \n",
    "        cv2.putText(frame, status, (100,100), cv2.FONT_HERSHEY_SIMPLEX, 1.2, color,3)\n",
    "        # putText(img, text, org, fontFace, fontScale, color[, thickness[, lineType[, bottomLeftOrigin]]]) -> img\n",
    "        for n in range(0, 68):\n",
    "            (x,y) = landmarks[n]\n",
    "            cv2.circle(frame, (x, y), 1, (255, 255, 255), -1)\n",
    "    \n",
    "    cv2.imshow(\"Frame\", frame)\n",
    "#     cv2.imshow(\"Result of detector\", face_frame)\n",
    "    key = cv2.waitKey(10)\n",
    "    if key == ord('q'):\n",
    "        break\n",
    "\n",
    "\n",
    "\n",
    "        \n",
    "# frame.release()\n",
    "cap.release()\n",
    "cv2.destroyAllWindows()"
   ]
  },
  {
   "cell_type": "markdown",
   "id": "793c7ab2",
   "metadata": {},
   "source": [
    "hog+linear SVM"
   ]
  },
  {
   "cell_type": "code",
   "execution_count": null,
   "id": "09c2e84d",
   "metadata": {},
   "outputs": [],
   "source": []
  }
 ],
 "metadata": {
  "kernelspec": {
   "display_name": "Python 3 (ipykernel)",
   "language": "python",
   "name": "python3"
  },
  "language_info": {
   "codemirror_mode": {
    "name": "ipython",
    "version": 3
   },
   "file_extension": ".py",
   "mimetype": "text/x-python",
   "name": "python",
   "nbconvert_exporter": "python",
   "pygments_lexer": "ipython3",
   "version": "3.9.7"
  }
 },
 "nbformat": 4,
 "nbformat_minor": 5
}
